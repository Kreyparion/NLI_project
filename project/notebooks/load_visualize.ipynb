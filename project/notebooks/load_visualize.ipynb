{
 "cells": [
  {
   "cell_type": "code",
   "execution_count": 2,
   "metadata": {},
   "outputs": [
    {
     "name": "stderr",
     "output_type": "stream",
     "text": [
      "/home/lucien/Bureau/3A_CS_et_FAC/Cours_sdi_Metz/sg_11/langage_naturel/tp_noté/.venv/lib/python3.10/site-packages/tqdm/auto.py:21: TqdmWarning: IProgress not found. Please update jupyter and ipywidgets. See https://ipywidgets.readthedocs.io/en/stable/user_install.html\n",
      "  from .autonotebook import tqdm as notebook_tqdm\n"
     ]
    }
   ],
   "source": [
    "from datasets import load_dataset\n",
    "snli = load_dataset(\"snli\")"
   ]
  },
  {
   "cell_type": "code",
   "execution_count": 3,
   "metadata": {},
   "outputs": [
    {
     "name": "stdout",
     "output_type": "stream",
     "text": [
      "DatasetDict({\n",
      "    test: Dataset({\n",
      "        features: ['premise', 'hypothesis', 'label'],\n",
      "        num_rows: 10000\n",
      "    })\n",
      "    validation: Dataset({\n",
      "        features: ['premise', 'hypothesis', 'label'],\n",
      "        num_rows: 10000\n",
      "    })\n",
      "    train: Dataset({\n",
      "        features: ['premise', 'hypothesis', 'label'],\n",
      "        num_rows: 550152\n",
      "    })\n",
      "})\n"
     ]
    }
   ],
   "source": [
    "#visualize the dataset\n",
    "print(snli)\n",
    "\n",
    "#Ce qu'il y a\n",
    "\n",
    "#3 ensembles: test, val, train | 3 colonnes: hypothesis, premise, label | 10000, 10000 et 550152 lignes respectivement"
   ]
  },
  {
   "cell_type": "code",
   "execution_count": 4,
   "metadata": {},
   "outputs": [
    {
     "name": "stdout",
     "output_type": "stream",
     "text": [
      "Dataset({\n",
      "    features: ['premise', 'hypothesis', 'label'],\n",
      "    num_rows: 10000\n",
      "})\n",
      "['premise', 'hypothesis', 'label']\n",
      "{'premise': ['A person on a horse jumps over a broken down airplane.', 'A person on a horse jumps over a broken down airplane.', 'A person on a horse jumps over a broken down airplane.', 'Children smiling and waving at camera', 'Children smiling and waving at camera'], 'hypothesis': ['A person is training his horse for a competition.', 'A person is at a diner, ordering an omelette.', 'A person is outdoors, on a horse.', 'They are smiling at their parents', 'There are children present'], 'label': [1, 2, 0, 1, 0]}\n"
     ]
    }
   ],
   "source": [
    "# visualize test\n",
    "\n",
    "print(snli['test'])\n",
    "\n",
    "# Afficher les colonnes\n",
    "\n",
    "print(snli['test'].column_names)\n",
    "\n",
    "# Afficher les 5 premières lignes\n",
    "\n",
    "print(snli['train'][:5])\n"
   ]
  },
  {
   "cell_type": "code",
   "execution_count": 5,
   "metadata": {},
   "outputs": [
    {
     "name": "stdout",
     "output_type": "stream",
     "text": [
      "{'premise': 'A small group of church-goers watch a choir practice.', 'hypothesis': 'A choir performs in front of packed crowd.', 'label': -1}\n"
     ]
    }
   ],
   "source": [
    "# on cherche à afficher un élément du dataset qui a un label -1\n",
    "\n",
    "# Il y a des éléments de label -1 dans le dataset\n",
    "\n",
    "for i in range(len(snli['train'])):\n",
    "    if snli['train']['label'][i] == -1:\n",
    "        print(snli['train'][i])\n",
    "        break"
   ]
  }
 ],
 "metadata": {
  "kernelspec": {
   "display_name": ".venv",
   "language": "python",
   "name": "python3"
  },
  "language_info": {
   "codemirror_mode": {
    "name": "ipython",
    "version": 3
   },
   "file_extension": ".py",
   "mimetype": "text/x-python",
   "name": "python",
   "nbconvert_exporter": "python",
   "pygments_lexer": "ipython3",
   "version": "3.8.10"
  }
 },
 "nbformat": 4,
 "nbformat_minor": 2
}
