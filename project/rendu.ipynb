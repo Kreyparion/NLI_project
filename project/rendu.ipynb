{
 "cells": [
  {
   "cell_type": "markdown",
   "metadata": {},
   "source": [
    "# Rendu du TP de NLP"
   ]
  },
  {
   "cell_type": "markdown",
   "metadata": {},
   "source": [
    "## 1) Chargement et visualisation du dataset"
   ]
  },
  {
   "cell_type": "code",
   "execution_count": 2,
   "metadata": {},
   "outputs": [],
   "source": [
    "from datasets import load_dataset\n",
    "import numpy as np\n",
    "import pandas as pd\n",
    "import random\n",
    "import yaml"
   ]
  },
  {
   "cell_type": "code",
   "execution_count": 3,
   "metadata": {},
   "outputs": [
    {
     "name": "stderr",
     "output_type": "stream",
     "text": [
      "Downloading readme: 100%|██████████| 16.0k/16.0k [00:00<00:00, 31.2MB/s]\n",
      "Downloading data: 100%|██████████| 412k/412k [00:00<00:00, 1.14MB/s]\n",
      "Downloading data: 100%|██████████| 413k/413k [00:00<00:00, 1.69MB/s]\n",
      "Downloading data: 100%|██████████| 19.6M/19.6M [00:01<00:00, 15.6MB/s]\n",
      "Generating test split: 100%|██████████| 10000/10000 [00:00<00:00, 200908.38 examples/s]\n",
      "Generating validation split: 100%|██████████| 10000/10000 [00:00<00:00, 318244.55 examples/s]\n",
      "Generating train split: 100%|██████████| 550152/550152 [00:01<00:00, 351107.81 examples/s]\n"
     ]
    }
   ],
   "source": [
    "from datasets import load_dataset\n",
    "snli = load_dataset(\"snli\")"
   ]
  },
  {
   "cell_type": "code",
   "execution_count": 4,
   "metadata": {},
   "outputs": [],
   "source": [
    "train_dataset = load_dataset(\"snli\", split='train')\n",
    "test_dataset = load_dataset(\"snli\", split='test')\n",
    "validation_dataset = load_dataset(\"snli\", split='validation')"
   ]
  },
  {
   "cell_type": "markdown",
   "metadata": {},
   "source": [
    "# 2) Preprocessing"
   ]
  },
  {
   "cell_type": "markdown",
   "metadata": {},
   "source": [
    "### On filtre notre dataset en enlevant les labels -1"
   ]
  },
  {
   "cell_type": "code",
   "execution_count": 6,
   "metadata": {},
   "outputs": [],
   "source": [
    "from data_utils import PreProcessor, Filter\n",
    "filter = Filter()\n",
    "preprocessor = PreProcessor()\n",
    "\n",
    "train_dataset_filtered = filter.transform(train_dataset)\n",
    "test_dataset_filtered = filter.transform(test_dataset)\n",
    "validation_dataset_filtered = filter.transform(validation_dataset)"
   ]
  },
  {
   "cell_type": "markdown",
   "metadata": {},
   "source": [
    "### On vectorise nos données avec le modèle qu'on a choisi de Hugging Face: all-MiniLM-L6-v2"
   ]
  },
  {
   "cell_type": "code",
   "execution_count": 9,
   "metadata": {},
   "outputs": [
    {
     "name": "stdout",
     "output_type": "stream",
     "text": [
      "{'input_ids': tensor([  101,  1037,  2711,  2006,  1037,  3586, 14523,  2058,  1037,  3714,\n",
      "         2091, 13297,  1012,   102,  1037,  2711,  2003,  2731,  2010,  3586,\n",
      "         2005,  1037,  2971,  1012,   102,     0,     0,     0,     0,     0,\n",
      "            0,     0,     0,     0,     0,     0,     0,     0,     0,     0,\n",
      "            0,     0,     0,     0,     0,     0,     0,     0,     0,     0,\n",
      "            0,     0,     0,     0,     0,     0,     0,     0,     0,     0,\n",
      "            0,     0,     0,     0,     0,     0,     0,     0,     0,     0,\n",
      "            0,     0,     0,     0,     0,     0,     0,     0,     0,     0,\n",
      "            0,     0,     0,     0,     0,     0,     0,     0,     0,     0,\n",
      "            0,     0,     0,     0,     0,     0,     0,     0,     0,     0,\n",
      "            0,     0,     0,     0,     0,     0,     0,     0,     0,     0,\n",
      "            0,     0,     0,     0,     0,     0,     0,     0,     0,     0,\n",
      "            0,     0,     0,     0,     0]), 'attention_mask': tensor([1, 1, 1, 1, 1, 1, 1, 1, 1, 1, 1, 1, 1, 1, 1, 1, 1, 1, 1, 1, 1, 1, 1, 1,\n",
      "        1, 0, 0, 0, 0, 0, 0, 0, 0, 0, 0, 0, 0, 0, 0, 0, 0, 0, 0, 0, 0, 0, 0, 0,\n",
      "        0, 0, 0, 0, 0, 0, 0, 0, 0, 0, 0, 0, 0, 0, 0, 0, 0, 0, 0, 0, 0, 0, 0, 0,\n",
      "        0, 0, 0, 0, 0, 0, 0, 0, 0, 0, 0, 0, 0, 0, 0, 0, 0, 0, 0, 0, 0, 0, 0, 0,\n",
      "        0, 0, 0, 0, 0, 0, 0, 0, 0, 0, 0, 0, 0, 0, 0, 0, 0, 0, 0, 0, 0, 0, 0, 0,\n",
      "        0, 0, 0, 0, 0]), 'labels': 1}\n",
      "1\n"
     ]
    }
   ],
   "source": [
    "train_dataset_processed, labels_train = preprocessor.fit_transform(train_dataset_filtered) \n",
    "test_dataset_processed, labels_test = preprocessor.transform(test_dataset_filtered)\n",
    "validation_dataset_processed, labels_val = preprocessor.transform(validation_dataset_filtered)\n",
    "\n",
    "print(train_dataset_processed[0])"
   ]
  },
  {
   "cell_type": "markdown",
   "metadata": {},
   "source": [
    "# 3) Training"
   ]
  },
  {
   "cell_type": "code",
   "execution_count": null,
   "metadata": {},
   "outputs": [],
   "source": [
    "config = yaml.safe_load(open(\"project/config.yml\", \"r\"))\n",
    "\n"
   ]
  }
 ],
 "metadata": {
  "kernelspec": {
   "display_name": ".venv",
   "language": "python",
   "name": "python3"
  },
  "language_info": {
   "codemirror_mode": {
    "name": "ipython",
    "version": 3
   },
   "file_extension": ".py",
   "mimetype": "text/x-python",
   "name": "python",
   "nbconvert_exporter": "python",
   "pygments_lexer": "ipython3",
   "version": "3.8.10"
  }
 },
 "nbformat": 4,
 "nbformat_minor": 2
}
