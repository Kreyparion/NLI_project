{
 "cells": [
  {
   "cell_type": "markdown",
   "metadata": {},
   "source": [
    "# Rendu du TP de NLP"
   ]
  },
  {
   "cell_type": "markdown",
   "metadata": {},
   "source": [
    "## 1) Chargement et visualisation du dataset"
   ]
  },
  {
   "cell_type": "code",
   "execution_count": 1,
   "metadata": {},
   "outputs": [
    {
     "name": "stderr",
     "output_type": "stream",
     "text": [
      "/home/lucien/Bureau/3A_CS_et_FAC/Cours_sdi_Metz/sg_11/langage_naturel/tp_noté/.venv/lib/python3.10/site-packages/tqdm/auto.py:21: TqdmWarning: IProgress not found. Please update jupyter and ipywidgets. See https://ipywidgets.readthedocs.io/en/stable/user_install.html\n",
      "  from .autonotebook import tqdm as notebook_tqdm\n",
      "Downloading readme: 100%|██████████| 16.0k/16.0k [00:00<00:00, 23.2MB/s]\n",
      "Downloading data: 100%|██████████| 412k/412k [00:02<00:00, 200kB/s]\n",
      "Downloading data: 100%|██████████| 413k/413k [00:01<00:00, 347kB/s]\n",
      "Downloading data: 100%|██████████| 19.6M/19.6M [00:13<00:00, 1.42MB/s]\n",
      "Generating test split: 100%|██████████| 10000/10000 [00:00<00:00, 828046.51 examples/s]\n",
      "Generating validation split: 100%|██████████| 10000/10000 [00:00<00:00, 1061956.65 examples/s]\n",
      "Generating train split: 100%|██████████| 550152/550152 [00:00<00:00, 1353993.04 examples/s]\n"
     ]
    }
   ],
   "source": [
    "from datasets import load_dataset\n",
    "snli = load_dataset(\"snli\")"
   ]
  }
 ],
 "metadata": {
  "kernelspec": {
   "display_name": ".venv",
   "language": "python",
   "name": "python3"
  },
  "language_info": {
   "codemirror_mode": {
    "name": "ipython",
    "version": 3
   },
   "file_extension": ".py",
   "mimetype": "text/x-python",
   "name": "python",
   "nbconvert_exporter": "python",
   "pygments_lexer": "ipython3",
   "version": "3.10.12"
  }
 },
 "nbformat": 4,
 "nbformat_minor": 2
}
