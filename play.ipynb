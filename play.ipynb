{
 "cells": [
  {
   "cell_type": "markdown",
   "metadata": {},
   "source": [
    "# Let's play with our model: making predictions"
   ]
  },
  {
   "cell_type": "code",
   "execution_count": 2,
   "metadata": {},
   "outputs": [
    {
     "name": "stderr",
     "output_type": "stream",
     "text": [
      "/usr/users/sdi-labworks-2023-2024/sdi-labworks-2023-2024_32/NLI_project/venv/lib/python3.8/site-packages/tqdm/auto.py:21: TqdmWarning: IProgress not found. Please update jupyter and ipywidgets. See https://ipywidgets.readthedocs.io/en/stable/user_install.html\n",
      "  from .autonotebook import tqdm as notebook_tqdm\n",
      "Some weights of BertForSequenceClassification were not initialized from the model checkpoint at sentence-transformers/all-MiniLM-L6-v2 and are newly initialized: ['classifier.bias', 'classifier.weight']\n",
      "You should probably TRAIN this model on a down-stream task to be able to use it for predictions and inference.\n"
     ]
    }
   ],
   "source": [
    "from transformers import AutoModelForSequenceClassification, AutoConfig\n",
    "import yaml\n",
    "\n",
    "config = yaml.safe_load(open(\"project/config.yml\", \"r\"))\n",
    "training_config = config[\"training_config\"]\n",
    "model_name = training_config[\"model_name\"]\n",
    "num_labels = training_config[\"num_labels\"]\n",
    "\n",
    "config = AutoConfig.from_pretrained(model_name, num_labels=num_labels)\n",
    "model = AutoModelForSequenceClassification.from_pretrained(model_name, config=config)\n"
   ]
  },
  {
   "cell_type": "markdown",
   "metadata": {},
   "source": [
    "## On charge les poids"
   ]
  },
  {
   "cell_type": "code",
   "execution_count": 4,
   "metadata": {},
   "outputs": [],
   "source": [
    "model = model.from_pretrained(\"project/results/checkpoint-4400\", num_labels=num_labels)"
   ]
  },
  {
   "cell_type": "markdown",
   "metadata": {},
   "source": [
    "## Essayons une prédiction sur deux phrases"
   ]
  },
  {
   "cell_type": "code",
   "execution_count": 12,
   "metadata": {},
   "outputs": [],
   "source": [
    "dic = {0: \"entailment\", 1: \"neutral\", 2: \"contradiction\"}\n",
    "#Exemple d'input\n",
    "\n",
    "input1 = \"I love you\"\n",
    "input2 = \"I hate you\""
   ]
  },
  {
   "cell_type": "code",
   "execution_count": 13,
   "metadata": {},
   "outputs": [
    {
     "name": "stdout",
     "output_type": "stream",
     "text": [
      "C'est deux phrases sont en contradiction\n"
     ]
    }
   ],
   "source": [
    "from transformers import AutoTokenizer\n",
    "import numpy as np\n",
    "import torch\n",
    "\n",
    "dic = {0: \"entailment\", 1: \"neutral\", 2: \"contradiction\"}\n",
    "\n",
    "def prediction(input1, input2):\n",
    "    #On tokénize avec nos inputs avec notre modèle\n",
    "    tokenizer = AutoTokenizer.from_pretrained(model_name)\n",
    "    inputs = tokenizer(input1, input2, return_tensors=\"pt\")\n",
    "    outputs = model(**inputs)\n",
    "\n",
    "    #On réalise la prédiction\n",
    "    predictions = torch.nn.functional.softmax(outputs.logits, dim=-1)\n",
    "    label = np.argmax(predictions.detach().numpy())\n",
    "\n",
    "    return dic[label]\n",
    "\n",
    "\n",
    "print(\"C'est deux phrases sont en\", prediction(input1, input2))"
   ]
  }
 ],
 "metadata": {
  "kernelspec": {
   "display_name": "venv",
   "language": "python",
   "name": "python3"
  },
  "language_info": {
   "codemirror_mode": {
    "name": "ipython",
    "version": 3
   },
   "file_extension": ".py",
   "mimetype": "text/x-python",
   "name": "python",
   "nbconvert_exporter": "python",
   "pygments_lexer": "ipython3",
   "version": "3.8.10"
  }
 },
 "nbformat": 4,
 "nbformat_minor": 2
}
