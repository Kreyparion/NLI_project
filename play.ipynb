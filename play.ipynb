{
 "cells": [
  {
   "cell_type": "markdown",
   "metadata": {},
   "source": [
    "# Let's play with our model: making predictions"
   ]
  },
  {
   "cell_type": "code",
   "execution_count": 3,
   "metadata": {},
   "outputs": [
    {
     "name": "stderr",
     "output_type": "stream",
     "text": [
      "Some weights of BertForSequenceClassification were not initialized from the model checkpoint at sentence-transformers/all-MiniLM-L6-v2 and are newly initialized: ['classifier.bias', 'classifier.weight']\n",
      "You should probably TRAIN this model on a down-stream task to be able to use it for predictions and inference.\n"
     ]
    }
   ],
   "source": [
    "from transformers import AutoModelForSequenceClassification, AutoConfig\n",
    "import yaml\n",
    "\n",
    "config = yaml.safe_load(open(\"project/config.yml\", \"r\"))\n",
    "training_config = config[\"training_config\"]\n",
    "model_name = training_config[\"model_name\"]\n",
    "num_labels = training_config[\"num_labels\"]\n",
    "\n",
    "config = AutoConfig.from_pretrained(model_name, num_labels=num_labels)\n",
    "model = AutoModelForSequenceClassification.from_pretrained(model_name, config=config)\n"
   ]
  },
  {
   "cell_type": "markdown",
   "metadata": {},
   "source": [
    "## On charge les poids"
   ]
  },
  {
   "cell_type": "code",
   "execution_count": 4,
   "metadata": {},
   "outputs": [],
   "source": [
    "model = model.from_pretrained(\"project/results/checkpoint-21400\", num_labels=num_labels)"
   ]
  },
  {
   "cell_type": "markdown",
   "metadata": {},
   "source": [
    "## Essayons une prédiction sur deux phrases"
   ]
  },
  {
   "cell_type": "code",
   "execution_count": 5,
   "metadata": {},
   "outputs": [],
   "source": [
    "dic = {0: \"entailment\", 1: \"neutral\", 2: \"contradiction\"}\n",
    "#Exemple d'input\n",
    "\n",
    "input1 = \"A man eats a pizza.\"\n",
    "input2 = \"The man is sleeping\""
   ]
  },
  {
   "cell_type": "code",
   "execution_count": 6,
   "metadata": {},
   "outputs": [
    {
     "name": "stdout",
     "output_type": "stream",
     "text": [
      "C'est deux phrases sont en contradiction\n"
     ]
    }
   ],
   "source": [
    "from transformers import AutoTokenizer\n",
    "import numpy as np\n",
    "import torch\n",
    "\n",
    "dic = {0: \"entailment\", 1: \"neutral\", 2: \"contradiction\"}\n",
    "\n",
    "def prediction(input1, input2):\n",
    "    #On tokénize avec nos inputs avec notre modèle\n",
    "    tokenizer = AutoTokenizer.from_pretrained(model_name)\n",
    "    inputs = tokenizer(input1, input2, return_tensors=\"pt\")\n",
    "    outputs = model(**inputs)\n",
    "\n",
    "    #On réalise la prédiction\n",
    "    predictions = torch.nn.functional.softmax(outputs.logits, dim=-1)\n",
    "    label = np.argmax(predictions.detach().numpy())\n",
    "\n",
    "    return dic[label]\n",
    "\n",
    "\n",
    "print(\"C'est deux phrases sont en\", prediction(input1, input2))"
   ]
  }
 ],
 "metadata": {
  "kernelspec": {
   "display_name": "venv",
   "language": "python",
   "name": "python3"
  },
  "language_info": {
   "codemirror_mode": {
    "name": "ipython",
    "version": 3
   },
   "file_extension": ".py",
   "mimetype": "text/x-python",
   "name": "python",
   "nbconvert_exporter": "python",
   "pygments_lexer": "ipython3",
   "version": "3.10.12"
  }
 },
 "nbformat": 4,
 "nbformat_minor": 2
}
